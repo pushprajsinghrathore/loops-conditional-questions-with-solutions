{
 "cells": [
  {
   "cell_type": "markdown",
   "id": "c5ce267f",
   "metadata": {},
   "source": [
    "1. Write a Python program to find those numbers which are divisible by 7 and multiple of 5, between 1500 and 2700 (both included)"
   ]
  },
  {
   "cell_type": "code",
   "execution_count": 18,
   "id": "78cf15b0",
   "metadata": {},
   "outputs": [
    {
     "name": "stdout",
     "output_type": "stream",
     "text": [
      "1505\n",
      "1512\n",
      "1519\n",
      "1526\n",
      "1533\n",
      "1540\n",
      "1547\n",
      "1554\n",
      "1561\n",
      "1568\n",
      "1575\n",
      "1582\n",
      "1589\n",
      "1596\n",
      "1603\n",
      "1610\n",
      "1617\n",
      "1624\n",
      "1631\n",
      "1638\n",
      "1645\n",
      "1652\n",
      "1659\n",
      "1666\n",
      "1673\n",
      "1680\n",
      "1687\n",
      "1694\n",
      "1701\n",
      "1708\n",
      "1715\n",
      "1722\n",
      "1729\n",
      "1736\n",
      "1743\n",
      "1750\n",
      "1757\n",
      "1764\n",
      "1771\n",
      "1778\n",
      "1785\n",
      "1792\n",
      "1799\n",
      "1806\n",
      "1813\n",
      "1820\n",
      "1827\n",
      "1834\n",
      "1841\n",
      "1848\n",
      "1855\n",
      "1862\n",
      "1869\n",
      "1876\n",
      "1883\n",
      "1890\n",
      "1897\n",
      "1904\n",
      "1911\n",
      "1918\n",
      "1925\n",
      "1932\n",
      "1939\n",
      "1946\n",
      "1953\n",
      "1960\n",
      "1967\n",
      "1974\n",
      "1981\n",
      "1988\n",
      "1995\n",
      "2002\n",
      "2009\n",
      "2016\n",
      "2023\n",
      "2030\n",
      "2037\n",
      "2044\n",
      "2051\n",
      "2058\n",
      "2065\n",
      "2072\n",
      "2079\n",
      "2086\n",
      "2093\n",
      "2100\n",
      "2107\n",
      "2114\n",
      "2121\n",
      "2128\n",
      "2135\n",
      "2142\n",
      "2149\n",
      "2156\n",
      "2163\n",
      "2170\n",
      "2177\n",
      "2184\n",
      "2191\n",
      "2198\n",
      "2205\n",
      "2212\n",
      "2219\n",
      "2226\n",
      "2233\n",
      "2240\n",
      "2247\n",
      "2254\n",
      "2261\n",
      "2268\n",
      "2275\n",
      "2282\n",
      "2289\n",
      "2296\n",
      "2303\n",
      "2310\n",
      "2317\n",
      "2324\n",
      "2331\n",
      "2338\n",
      "2345\n",
      "2352\n",
      "2359\n",
      "2366\n",
      "2373\n",
      "2380\n",
      "2387\n",
      "2394\n",
      "2401\n",
      "2408\n",
      "2415\n",
      "2422\n",
      "2429\n",
      "2436\n",
      "2443\n",
      "2450\n",
      "2457\n",
      "2464\n",
      "2471\n",
      "2478\n",
      "2485\n",
      "2492\n",
      "2499\n",
      "2506\n",
      "2513\n",
      "2520\n",
      "2527\n",
      "2534\n",
      "2541\n",
      "2548\n",
      "2555\n",
      "2562\n",
      "2569\n",
      "2576\n",
      "2583\n",
      "2590\n",
      "2597\n",
      "2604\n",
      "2611\n",
      "2618\n",
      "2625\n",
      "2632\n",
      "2639\n",
      "2646\n",
      "2653\n",
      "2660\n",
      "2667\n",
      "2674\n",
      "2681\n",
      "2688\n",
      "2695\n"
     ]
    }
   ],
   "source": [
    "for i in range(1500,2700):\n",
    "    \n",
    "    if i%7==0 and  i*5:\n",
    "        print(i)\n",
    "\n",
    "        \n",
    "for i in range(1500,2700):\n",
    "    if i%7==0 and i*5:\n",
    "        print(i)\n",
    "    "
   ]
  },
  {
   "cell_type": "code",
   "execution_count": null,
   "id": "4a624637",
   "metadata": {},
   "outputs": [],
   "source": []
  },
  {
   "cell_type": "markdown",
   "id": "d248bd04",
   "metadata": {},
   "source": [
    ". Write a Python program to convert temperatures to and from celsius, fahrenheit."
   ]
  },
  {
   "cell_type": "code",
   "execution_count": 22,
   "id": "4ebb15a8",
   "metadata": {},
   "outputs": [
    {
     "name": "stdout",
     "output_type": "stream",
     "text": [
      "Enter a temprature f45\n",
      "7.222222222222222 celcius\n"
     ]
    }
   ],
   "source": [
    "# fahrenti to clecius\n",
    "n=int(input(\"Enter a temprature f\"))\n",
    "f=(n-32)/1.8\n",
    "print(f,\"celcius\")"
   ]
  },
  {
   "cell_type": "code",
   "execution_count": 27,
   "id": "3e2ad7d0",
   "metadata": {},
   "outputs": [
    {
     "name": "stdout",
     "output_type": "stream",
     "text": [
      "enter  a temprature celcius60\n",
      "fahrenhite 140.0\n"
     ]
    }
   ],
   "source": [
    "# clecius to fahernti\n",
    "n=int(input(\"enter  a temprature celcius\"))\n",
    "c=(n*1.8)+32\n",
    "print(\"fahrenhite\",c)"
   ]
  },
  {
   "cell_type": "markdown",
   "id": "417a6037",
   "metadata": {},
   "source": [
    "Write a Python program to guess a number between 1 to 9. "
   ]
  },
  {
   "cell_type": "code",
   "execution_count": 43,
   "id": "f6d43fc8",
   "metadata": {},
   "outputs": [
    {
     "name": "stdout",
     "output_type": "stream",
     "text": [
      "enter number form 1 to 9 5\n",
      "guess a number\n",
      "enter number form 1 to 9 6\n",
      "guess a number\n",
      "enter number form 1 to 9 9\n",
      "guess a number\n",
      "enter number form 1 to 9 7\n",
      "guess a number\n",
      "enter number form 1 to 9 8\n",
      "guess a number\n",
      "enter number form 1 to 9 5\n",
      "guess a number\n",
      "enter number form 1 to 9 1\n",
      "guess a number\n",
      "enter number form 1 to 9 2\n",
      "guess a number\n",
      "enter number form 1 to 9 3\n",
      "well gues\n"
     ]
    }
   ],
   "source": [
    "import random \n",
    "num=random.randint(1,9)\n",
    "number=int(input(\"enter number form 1 to 9 \"))\n",
    "while number!= num:\n",
    "    print(\"guess a number\")\n",
    "    number=int(input(\"enter number form 1 to 9 \"))\n",
    "else:\n",
    "    print(\"well gues\")\n"
   ]
  },
  {
   "cell_type": "code",
   "execution_count": null,
   "id": "07ca8ef4",
   "metadata": {},
   "outputs": [],
   "source": []
  },
  {
   "cell_type": "code",
   "execution_count": 1,
   "id": "48d1082e",
   "metadata": {},
   "outputs": [
    {
     "name": "stdout",
     "output_type": "stream",
     "text": [
      "enter a number4\n",
      "well guss\n"
     ]
    }
   ],
   "source": [
    "a= int(input(\"enter a number\"))\n",
    "while (a>9)or(a<1):\n",
    "    a=int(input(\"enter a numbe\"))\n",
    "else:\n",
    "    print(\"well guss\")"
   ]
  },
  {
   "cell_type": "markdown",
   "id": "e93a995a",
   "metadata": {},
   "source": [
    " Write a Python program to construct the following pattern, using a nested for loop."
   ]
  },
  {
   "cell_type": "code",
   "execution_count": 64,
   "id": "19cb5036",
   "metadata": {},
   "outputs": [
    {
     "name": "stdout",
     "output_type": "stream",
     "text": [
      " * \n",
      " *  * \n",
      " *  *  * \n",
      " *  *  *  * \n",
      " *  *  *  *  * \n",
      " *  *  *  *  * \n",
      " *  *  *  * \n",
      " *  *  * \n",
      " *  * \n",
      " * \n"
     ]
    }
   ],
   "source": [
    "for i in range(1,6):\n",
    "    print(\" * \"*i)\n",
    "for y in range(5,0,-1):\n",
    "    print(\" * \"*y)"
   ]
  },
  {
   "cell_type": "code",
   "execution_count": 69,
   "id": "1453412d",
   "metadata": {},
   "outputs": [
    {
     "name": "stdout",
     "output_type": "stream",
     "text": [
      "* \n",
      "* * \n",
      "* * * \n",
      "* * * * \n",
      "* * * * * \n",
      "* * * * * \n",
      "* * * * \n",
      "* * * \n",
      "* * \n",
      "* \n"
     ]
    }
   ],
   "source": [
    "for i in range (1,6):\n",
    "    print(\"* \"*i)\n",
    "for y in range(5,0,-1):\n",
    "    print(\"* \"*y)"
   ]
  },
  {
   "cell_type": "code",
   "execution_count": 91,
   "id": "00565e66",
   "metadata": {},
   "outputs": [
    {
     "name": "stdout",
     "output_type": "stream",
     "text": [
      "\n",
      "* \n",
      "* * \n",
      "* * * \n",
      "* * * * \n",
      "* * * * * \n",
      "* * * * \n",
      "* * * \n",
      "* * \n",
      "* \n"
     ]
    }
   ],
   "source": [
    "n=5;\n",
    "for i in range(n):\n",
    "    for j in range(i):\n",
    "        print ('* ', end=\"\")\n",
    "    print()\n",
    "\n",
    "for i in range(n,0,-1):\n",
    "    for j in range(i):\n",
    "        print('* ', end=\"\")\n",
    "    print()\n",
    "  "
   ]
  },
  {
   "cell_type": "code",
   "execution_count": 110,
   "id": "6b59b8b8",
   "metadata": {},
   "outputs": [
    {
     "name": "stdout",
     "output_type": "stream",
     "text": [
      "*\n",
      "**\n",
      "***\n",
      "****\n",
      "*****\n",
      "****\n",
      "***\n",
      "**\n",
      "*\n"
     ]
    }
   ],
   "source": [
    "i=1\n",
    "while i<5:# 1 2 3 4 \n",
    "    print(\"*\"*i)\n",
    "    i+=1\n",
    "\n",
    "while i>=1: # 5 4 3 2 1\n",
    "    print(\"*\"*i)\n",
    "    i-=1"
   ]
  },
  {
   "cell_type": "markdown",
   "id": "f67138a0",
   "metadata": {},
   "source": [
    "Write a Python program that accepts a word from the user and reverse it"
   ]
  },
  {
   "cell_type": "code",
   "execution_count": 116,
   "id": "c4f0b8a5",
   "metadata": {
    "scrolled": true
   },
   "outputs": [
    {
     "name": "stdout",
     "output_type": "stream",
     "text": [
      "enetr a word raj\n",
      "jar\n"
     ]
    }
   ],
   "source": [
    "a=input(\"enetr a word \")[::-1]\n",
    "print(a)"
   ]
  },
  {
   "cell_type": "code",
   "execution_count": 124,
   "id": "a07dbc63",
   "metadata": {},
   "outputs": [
    {
     "name": "stdout",
     "output_type": "stream",
     "text": [
      "enter wordjay\n",
      "yaj\n"
     ]
    }
   ],
   "source": [
    "a=input(\"enter word\")\n",
    "while len(a):\n",
    "    print(a[::-1])\n",
    "    break"
   ]
  },
  {
   "cell_type": "code",
   "execution_count": 131,
   "id": "e073839e",
   "metadata": {},
   "outputs": [
    {
     "name": "stdout",
     "output_type": "stream",
     "text": [
      "enter a word lam\n",
      "mal"
     ]
    }
   ],
   "source": [
    "a=input(\"enter a word \")\n",
    "for i in reversed(a):\n",
    "    print(i,end=\"\")\n"
   ]
  },
  {
   "cell_type": "code",
   "execution_count": 137,
   "id": "b2082af1",
   "metadata": {},
   "outputs": [
    {
     "name": "stdout",
     "output_type": "stream",
     "text": [
      "[3, 2, 1]\n"
     ]
    }
   ],
   "source": [
    "l=[1,2,3]\n",
    "l.reverse()\n",
    "print(l)"
   ]
  },
  {
   "cell_type": "markdown",
   "id": "ad815f72",
   "metadata": {},
   "source": [
    "6. Write a Python program to count the number of even and odd numbers from a series of numbers. Go to the editor\n",
    "Sample numbers : numbers = (1, 2, 3, 4, 5, 6, 7, 8, 9) \n",
    "Expected Output :\n",
    "Number of even numbers : 5\n",
    "Number of odd numbers : 4"
   ]
  },
  {
   "cell_type": "code",
   "execution_count": 14,
   "id": "eb66d213",
   "metadata": {},
   "outputs": [
    {
     "name": "stdout",
     "output_type": "stream",
     "text": [
      "even number 0\n",
      "odd number= 1\n",
      "even number 2\n",
      "odd number= 3\n",
      "even number 4\n",
      "odd number= 5\n",
      "even number 6\n",
      "odd number= 7\n",
      "even number 8\n",
      "odd number= 9\n"
     ]
    }
   ],
   "source": [
    "for i in range(10):\n",
    "    if i%2==0:\n",
    "        print(\"even number\",i)\n",
    "        \n",
    "    else:\n",
    "        \n",
    "        print(\"odd number=\",i)\n",
    "     "
   ]
  },
  {
   "cell_type": "code",
   "execution_count": 32,
   "id": "6d3ed70c",
   "metadata": {},
   "outputs": [
    {
     "name": "stdout",
     "output_type": "stream",
     "text": [
      "4\n",
      "5\n"
     ]
    }
   ],
   "source": [
    "n=(1,2,3,4,5,6,7,8,9)\n",
    "odd=0\n",
    "even=0\n",
    "for i in n:\n",
    "    if  i%2==0:\n",
    "        even+=1\n",
    "    else:\n",
    "        odd+=1\n",
    "print(even)\n",
    "print(odd)\n"
   ]
  },
  {
   "cell_type": "code",
   "execution_count": 73,
   "id": "64248429",
   "metadata": {},
   "outputs": [
    {
     "name": "stdout",
     "output_type": "stream",
     "text": [
      "\n",
      "\n",
      "\n",
      "\n",
      "\n",
      "\n",
      "\n",
      "\n",
      "\n",
      "4\n",
      "5\n"
     ]
    }
   ],
   "source": [
    "i=0\n",
    "while i<=8:\n",
    "    print('')\n",
    "    i+=1\n",
    "\n",
    "odd=0\n",
    "even=0\n",
    "for i in n:\n",
    "    if  i%2==0:\n",
    "        even+=1\n",
    "    else:\n",
    "        odd+=1\n",
    "        \n",
    "print(even)\n",
    "print(odd)\n"
   ]
  },
  {
   "cell_type": "code",
   "execution_count": 71,
   "id": "60c3275d",
   "metadata": {},
   "outputs": [
    {
     "name": "stdout",
     "output_type": "stream",
     "text": [
      "0\n",
      "1\n",
      "2\n",
      "3\n",
      "4\n",
      "5\n",
      "6\n",
      "7\n",
      "8\n",
      "9\n"
     ]
    }
   ],
   "source": [
    "i=0\n",
    "while i<=9:\n",
    "    print(i)\n",
    "    i+=1\n"
   ]
  },
  {
   "cell_type": "markdown",
   "id": "143c20a2",
   "metadata": {},
   "source": [
    "7. Write a Python program that prints each item and its corresponding type from the following list.\n",
    "Sample List : datalist = [1452, 11.23, 1+2j, True, 'himanshu', (0, -1), [5, 12], {\"class\":'V', \"section\":'A'}]"
   ]
  },
  {
   "cell_type": "code",
   "execution_count": 81,
   "id": "96ede54e",
   "metadata": {},
   "outputs": [
    {
     "name": "stdout",
     "output_type": "stream",
     "text": [
      "1452 <class 'int'>\n",
      "11.23 <class 'float'>\n",
      "(1+2j) <class 'complex'>\n",
      "True <class 'bool'>\n",
      "himanshu <class 'str'>\n",
      "(0, -1) <class 'tuple'>\n",
      "[5, 12] <class 'list'>\n",
      "{'class': 'V', 'section': 'A'} <class 'dict'>\n"
     ]
    }
   ],
   "source": [
    "datalist = [1452, 11.23, 1+2j, True, 'himanshu', (0, -1), [5, 12], {\"class\":'V', \"section\":'A'}]\n",
    "for i in datalist:\n",
    "    print(i,type(i))"
   ]
  },
  {
   "cell_type": "markdown",
   "id": "429147aa",
   "metadata": {},
   "source": [
    " Write a Python program that prints all the numbers from 0 to 6 except 3 and 6."
   ]
  },
  {
   "cell_type": "code",
   "execution_count": 107,
   "id": "d66c2d1f",
   "metadata": {},
   "outputs": [
    {
     "name": "stdout",
     "output_type": "stream",
     "text": [
      "[0, 1, 2, 3, 4, 5]\n"
     ]
    }
   ],
   "source": [
    "l=[0,1,2,3,4,5,6]\n",
    "l.remove(3 and 6)\n",
    "print(l)"
   ]
  },
  {
   "cell_type": "code",
   "execution_count": 113,
   "id": "5d3bd3f1",
   "metadata": {},
   "outputs": [
    {
     "name": "stdout",
     "output_type": "stream",
     "text": [
      "0 1 2 4 5 "
     ]
    }
   ],
   "source": [
    "for i in range(6):\n",
    "    if i==3 or i==6:\n",
    "        continue\n",
    "    else:\n",
    "        print(i,end=\" \")"
   ]
  },
  {
   "cell_type": "code",
   "execution_count": 150,
   "id": "1461dcd0",
   "metadata": {},
   "outputs": [
    {
     "name": "stdout",
     "output_type": "stream",
     "text": [
      "0 1 2 4 5 "
     ]
    }
   ],
   "source": [
    "i=-1\n",
    "while i<6:\n",
    "    i+=1\n",
    "    if i==3 or i==6:\n",
    "        continue\n",
    "    else:\n",
    "        print(i,end=\" \")\n",
    "    \n",
    "   \n",
    "     "
   ]
  },
  {
   "cell_type": "markdown",
   "id": "c0358209",
   "metadata": {},
   "source": [
    " Write a Python program to get the Fibonacci series between 0 to 50.\n",
    "\n",
    "Note : The Fibonacci Sequence is the series of numbers :\n",
    "0, 1, 1, 2, 3, 5, 8, 13, 21, ....\n",
    "Every next number is found by adding up the two numbers before it."
   ]
  },
  {
   "cell_type": "code",
   "execution_count": 43,
   "id": "54642f0e",
   "metadata": {},
   "outputs": [
    {
     "name": "stdout",
     "output_type": "stream",
     "text": [
      "1\n",
      "1\n",
      "2\n",
      "3\n",
      "5\n",
      "8\n",
      "13\n",
      "21\n",
      "34\n"
     ]
    }
   ],
   "source": [
    "x,y=0,1\n",
    "\n",
    "while y<50:\n",
    "    print(y)\n",
    "    x,y=y,x+y\n",
    "  "
   ]
  },
  {
   "cell_type": "code",
   "execution_count": null,
   "id": "24ca0e0d",
   "metadata": {},
   "outputs": [],
   "source": [
    "x,y=0,1 # 1 1 ,1 2\n",
    "while y<50:\n",
    "    print(y)\n",
    "    x,y=y,x+y\n",
    "       "
   ]
  },
  {
   "cell_type": "code",
   "execution_count": 45,
   "id": "6dc109af",
   "metadata": {},
   "outputs": [
    {
     "name": "stdout",
     "output_type": "stream",
     "text": [
      "Input number of rows: 3\n",
      "Input number of columns: 4\n",
      "[[0, 0, 0, 0], [0, 1, 2, 3], [0, 2, 4, 6]]\n"
     ]
    }
   ],
   "source": [
    "row_num = int(input(\"Input number of rows: \"))\n",
    "col_num = int(input(\"Input number of columns: \"))\n",
    "multi_list = [[0 for col in range(col_num)] for row in range(row_num)]\n",
    "\n",
    "for row in range(row_num):\n",
    "    for col in range(col_num):\n",
    "        multi_list[row][col]= row*col\n",
    "\n",
    "print(multi_list)\n"
   ]
  },
  {
   "cell_type": "markdown",
   "id": "3137ade7",
   "metadata": {},
   "source": [
    "Write a Python program which takes two digits m (row) and n (column) as input and generates a two-dimensional array. The element value in the i-th row and j-th column of the array should be i*j."
   ]
  },
  {
   "cell_type": "code",
   "execution_count": 69,
   "id": "04031f99",
   "metadata": {},
   "outputs": [
    {
     "name": "stdout",
     "output_type": "stream",
     "text": [
      "Enter a row number3\n",
      "Enter a column number4\n",
      "\n",
      "\n",
      "\n",
      "[[0, 0, 0, 0], [0, 1, 2, 3], [0, 2, 4, 6]]\n"
     ]
    }
   ],
   "source": [
    "r=int(input(\"Enter a row number\"))\n",
    "c=int(input(\"Enter a column number\"))\n",
    "list=[[0 for col in range (c)]for row in range (r)]\n",
    "for row in range(r):\n",
    "    for col in range(c):\n",
    "        list[row][col]=row* col\n",
    "print(list)"
   ]
  },
  {
   "cell_type": "code",
   "execution_count": 67,
   "id": "c69b4f52",
   "metadata": {},
   "outputs": [
    {
     "name": "stdout",
     "output_type": "stream",
     "text": [
      "enter a row4\n",
      "[0, 0, 0, 0]\n"
     ]
    }
   ],
   "source": [
    "n=int(input(\"enter a row\"))\n",
    "arr=[0 for i in range(n)]\n",
    "print(arr)\n"
   ]
  },
  {
   "cell_type": "code",
   "execution_count": 84,
   "id": "603ff617",
   "metadata": {
    "scrolled": false
   },
   "outputs": [
    {
     "ename": "SyntaxError",
     "evalue": "invalid syntax (831329455.py, line 6)",
     "output_type": "error",
     "traceback": [
      "\u001b[1;36m  Input \u001b[1;32mIn [84]\u001b[1;36m\u001b[0m\n\u001b[1;33m    else:\u001b[0m\n\u001b[1;37m    ^\u001b[0m\n\u001b[1;31mSyntaxError\u001b[0m\u001b[1;31m:\u001b[0m invalid syntax\n"
     ]
    }
   ],
   "source": [
    "while True:\n",
    "    a=(input(\"Enter Text\"))\n",
    "    if len(a)==0:\n",
    "        print(\"empty\")\n",
    "    break\n",
    "    else:\n",
    "        print(a.lower())"
   ]
  },
  {
   "cell_type": "code",
   "execution_count": 91,
   "id": "89b7eaec",
   "metadata": {},
   "outputs": [
    {
     "name": "stdout",
     "output_type": "stream",
     "text": [
      "Enter text: HEEL\n",
      "heel\n"
     ]
    }
   ],
   "source": [
    "while True:\n",
    "    a = input('Enter text: ')\n",
    "    if len(a) == 0:\n",
    "        print('You entered nothing')\n",
    "        break\n",
    "    else:\n",
    "        print(a.lower(), end = '\\n')\n",
    "        "
   ]
  },
  {
   "cell_type": "markdown",
   "id": "5ca812db",
   "metadata": {},
   "source": [
    "Write a Python program that accepts a string and calculate the number of digits and letters."
   ]
  },
  {
   "cell_type": "code",
   "execution_count": 95,
   "id": "a047b6f7",
   "metadata": {},
   "outputs": [
    {
     "name": "stdout",
     "output_type": "stream",
     "text": [
      "Enter a text: raj456\n",
      "letter 3\n",
      "digit 3\n"
     ]
    }
   ],
   "source": [
    "text=input(\"Enter a text: \")\n",
    "d=0\n",
    "l=0\n",
    "for i in text:\n",
    "    if i.isdigit():#The isdigit() method returns True if all the characters are digits, otherwise False\n",
    "        d+=1\n",
    "    elif i.isalpha():# The isalpha() method returns True if all characters in the string are alphabets. If not, it returns False\n",
    "        l+=1\n",
    "    else:\n",
    "        pass\n",
    "print(\"letter\",l)\n",
    "print(\"digit\",d)"
   ]
  },
  {
   "cell_type": "markdown",
   "id": "c3f868e6",
   "metadata": {},
   "source": [
    "Write a Python program to check the validity of a password (input from users).\n",
    "\n",
    "Validation :\n",
    "\n",
    "At least 1 letter between [a-z] and 1 letter between [A-Z].\n",
    "At least 1 number between [0-9].\n",
    "At least 1 character from [$#@].\n",
    "Minimum length 6 characters.\n",
    "Maximum length 16 characters."
   ]
  },
  {
   "cell_type": "code",
   "execution_count": 100,
   "id": "4b3c641f",
   "metadata": {},
   "outputs": [
    {
     "name": "stdout",
     "output_type": "stream",
     "text": [
      "YES! We have a match!\n"
     ]
    }
   ],
   "source": [
    "txt = \"The rain in Spain\"\n",
    "x = re.search(\"^The.*Spain$\", txt)\n",
    "\n",
    "if x:\n",
    "  print(\"YES! We have a match!\")\n",
    "else:\n",
    "  print(\"No match\")\n"
   ]
  },
  {
   "cell_type": "code",
   "execution_count": 102,
   "id": "cc77343c",
   "metadata": {},
   "outputs": [
    {
     "name": "stdout",
     "output_type": "stream",
     "text": [
      "Input your passwordPush@123\n",
      "Valid Password\n"
     ]
    }
   ],
   "source": [
    "import re\n",
    "p= input(\"Input your password\")\n",
    "x = True\n",
    "while x:  \n",
    "    if (len(p)<6 or len(p)>12):\n",
    "        break\n",
    "    elif not re.search(\"[a-z]\",p):\n",
    "        break\n",
    "    elif not re.search(\"[0-9]\",p):\n",
    "        break\n",
    "    elif not re.search(\"[A-Z]\",p):\n",
    "        break\n",
    "    elif not re.search(\"[$#@]\",p):\n",
    "        break\n",
    "    elif re.search(\"\\s\",p):\n",
    "        break\n",
    "    else:\n",
    "        print(\"Valid Password\")\n",
    "        x=False\n",
    "        break\n",
    "\n",
    "if x:\n",
    "    print(\"Not a Valid Password\")\n",
    "\n"
   ]
  },
  {
   "cell_type": "code",
   "execution_count": 2,
   "id": "f76de40d",
   "metadata": {
    "scrolled": true
   },
   "outputs": [
    {
     "name": "stdout",
     "output_type": "stream",
     "text": [
      "  * * *   \n",
      "*       * \n",
      "*       * \n",
      "* * * * * \n",
      "*       * \n",
      "*       * \n",
      "*       * \n"
     ]
    }
   ],
   "source": [
    "for i in range(7):\n",
    "    for j in range(5):\n",
    "        if i in {1,2,3,4,5,6} and j in {0,4}:\n",
    "            print('*',end=' ')\n",
    "        elif i in {0} and j in {1,2,3}:\n",
    "            print('*',end=' ')\n",
    "        elif i in {3} and j in {1,2,3}:\n",
    "            print('*',end=' ')\n",
    "        else:\n",
    "            print(' ', end = ' ')\n",
    "    print()"
   ]
  },
  {
   "cell_type": "code",
   "execution_count": 17,
   "id": "725f82cf",
   "metadata": {},
   "outputs": [
    {
     "name": "stdout",
     "output_type": "stream",
     "text": [
      "  * * *   \n",
      "*       * \n",
      "*       * \n",
      "* * * * * \n",
      "*       * \n",
      "*       * \n",
      "*       * \n"
     ]
    }
   ],
   "source": [
    "for i in range(7):\n",
    "    for j in range(5):\n",
    "        if i in {1,2,3,4,5,6} and j in {0,4}:\n",
    "            print('*',end=' ')\n",
    "        elif i in {0} and j in {1,2,3}:\n",
    "            print('*',end=' ')\n",
    "        elif i in {3} and j in {1,2,3}:\n",
    "            print('*',end=' ')\n",
    "        else:\n",
    "            print(' ', end = ' ')\n",
    "    print()"
   ]
  },
  {
   "cell_type": "code",
   "execution_count": 29,
   "id": "83310db9",
   "metadata": {},
   "outputs": [
    {
     "name": "stdout",
     "output_type": "stream",
     "text": [
      "  * * *   \n",
      "*      *\n",
      "*      *\n",
      "** * * *\n",
      "*      *\n",
      "*      *\n",
      "*      *\n"
     ]
    }
   ],
   "source": [
    "for i in range(7):\n",
    "    for j in range(5):\n",
    "        if i in {1,2,3,4,5,6} and j in {0,4}:\n",
    "            print(\"*\",end=\"\")\n",
    "        elif i in {0} and j in {1,2,3}:\n",
    "            print(\"*\",end=' ')\n",
    "        elif i in {3} and j in {1,2,3}:\n",
    "            print(\"*\",end=' ')\n",
    "        else:\n",
    "            print(' ', end = ' ')\n",
    "    print()\n",
    "        "
   ]
  },
  {
   "cell_type": "markdown",
   "id": "54f0282c",
   "metadata": {},
   "source": [
    "Write a Python program to calculate a dog's age in dog's years.\n",
    "Note: For the first two years, a dog year is equal to 10.5 human years. After that, each dog year equals 4 human years."
   ]
  },
  {
   "cell_type": "code",
   "execution_count": 33,
   "id": "0a5c3177",
   "metadata": {},
   "outputs": [
    {
     "name": "stdout",
     "output_type": "stream",
     "text": [
      "enter age12\n",
      "age of dog is  61\n"
     ]
    }
   ],
   "source": [
    "h=int(input(\"enter age\"))\n",
    "if h<0:\n",
    "    print(\"age must be postive\")\n",
    "elif h<=2:\n",
    "    d=h*10.5\n",
    "else:\n",
    "    d=21+(h-2)*4\n",
    "print(\"age of dog is \",d)"
   ]
  },
  {
   "cell_type": "markdown",
   "id": "3785364a",
   "metadata": {},
   "source": [
    "Write a Python program to check whether an alphabet is a vowel or consonan"
   ]
  },
  {
   "cell_type": "code",
   "execution_count": null,
   "id": "369b4852",
   "metadata": {},
   "outputs": [],
   "source": []
  },
  {
   "cell_type": "code",
   "execution_count": 44,
   "id": "2044d94d",
   "metadata": {
    "scrolled": true
   },
   "outputs": [
    {
     "name": "stdout",
     "output_type": "stream",
     "text": [
      "Enter a word: k\n",
      "conson\n"
     ]
    }
   ],
   "source": [
    "s= input(\"Enter a word: \")\n",
    "if s in (\"a\",\"i\", \"e\",\"o\",\"u\"):\n",
    "    print(\"vowles\")\n",
    "else:\n",
    "    print(\"conson\") "
   ]
  },
  {
   "cell_type": "code",
   "execution_count": null,
   "id": "2e17509e",
   "metadata": {},
   "outputs": [],
   "source": []
  },
  {
   "cell_type": "code",
   "execution_count": 49,
   "id": "c3d40885",
   "metadata": {},
   "outputs": [
    {
     "name": "stdout",
     "output_type": "stream",
     "text": [
      "Enter a word: k\n",
      "conson\n"
     ]
    }
   ],
   "source": [
    "s= input(\"Enter a word: \")\n",
    "while s in (\"a\",\"i\", \"e\",\"o\",\"u\"):\n",
    "    print(\"vowles\")\n",
    "    break\n",
    "else:\n",
    "    print(\"conson\")"
   ]
  },
  {
   "cell_type": "code",
   "execution_count": 51,
   "id": "63b310ca",
   "metadata": {},
   "outputs": [
    {
     "name": "stdout",
     "output_type": "stream",
     "text": [
      "List of months: January, February, March, April, May, June, July, August, September, October, November, December\n",
      "Input the name of Month: June\n",
      "No. of days: 30 days\n"
     ]
    }
   ],
   "source": [
    "print(\"List of months: January, February, March, April, May, June, July, August, September, October, November, December\")\n",
    "month_name = input(\"Input the name of Month: \")\n",
    "\n",
    "if month_name == \"February\":\n",
    "\tprint(\"No. of days: 28/29 days\")\n",
    "elif month_name in (\"April\", \"June\", \"September\", \"November\"):\n",
    "\tprint(\"No. of days: 30 days\")\n",
    "elif month_name in (\"January\", \"March\", \"May\", \"July\", \"August\", \"October\", \"December\"):\n",
    "\tprint(\"No. of days: 31 day\")\n",
    "else:\n",
    "\tprint(\"Wrong month name\") \n",
    "\t"
   ]
  },
  {
   "cell_type": "code",
   "execution_count": null,
   "id": "4bd2b7d9",
   "metadata": {},
   "outputs": [],
   "source": []
  },
  {
   "cell_type": "code",
   "execution_count": null,
   "id": "c164301f",
   "metadata": {},
   "outputs": [],
   "source": []
  }
 ],
 "metadata": {
  "kernelspec": {
   "display_name": "Python 3 (ipykernel)",
   "language": "python",
   "name": "python3"
  },
  "language_info": {
   "codemirror_mode": {
    "name": "ipython",
    "version": 3
   },
   "file_extension": ".py",
   "mimetype": "text/x-python",
   "name": "python",
   "nbconvert_exporter": "python",
   "pygments_lexer": "ipython3",
   "version": "3.9.7"
  }
 },
 "nbformat": 4,
 "nbformat_minor": 5
}
